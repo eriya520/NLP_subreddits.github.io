{
 "cells": [
  {
   "cell_type": "markdown",
   "id": "f17bce58-f711-49ef-bac7-4a00422ebd50",
   "metadata": {},
   "source": [
    "# NPL and classification models \n",
    "\n",
    "Fit the model using pipeline and then gridsearch for best parameters. The goal is to find models with highest accuracy, if comparable, find the most generalizing model.\n",
    "\n",
    "* **NPL:** CounterVectorizer\n",
    "* **Classification models:** RandomForest, MultinomialNB(generally perfect for NPL), AdaBoost, SVC, Votingclassfier\n",
    "\n",
    "Votingclassifier was used to vote on the two best performing models: Randomforest and MultinomialNB."
   ]
  },
  {
   "cell_type": "code",
   "execution_count": 155,
   "id": "0dc27f56-a18e-4d6a-a1c9-210ab233f0fd",
   "metadata": {},
   "outputs": [],
   "source": [
    "#import\n",
    "\n",
    "import pandas as pd\n",
    "import numpy as np\n",
    "import matplotlib.pyplot as plt\n",
    "\n",
    "#models\n",
    "from sklearn.naive_bayes import MultinomialNB\n",
    "from sklearn.ensemble import RandomForestClassifier, AdaBoostClassifier, VotingClassifier\n",
    "from sklearn.model_selection import train_test_split, cross_val_score, GridSearchCV\n",
    "from sklearn.pipeline import Pipeline\n",
    "from sklearn.metrics import confusion_matrix, ConfusionMatrixDisplay, classification_report\n",
    "from sklearn.feature_extraction.text import CountVectorizer\n",
    "from sklearn.svm import SVC\n",
    "\n",
    "\n",
    "from nltk.sentiment.vader import SentimentIntensityAnalyzer"
   ]
  },
  {
   "cell_type": "markdown",
   "id": "f53b8056-b0a7-48df-b63c-99f7839509d4",
   "metadata": {},
   "source": [
    "## Load pre-processed data"
   ]
  },
  {
   "cell_type": "code",
   "execution_count": 156,
   "id": "3d4dc429-13d0-4dab-8acd-e9e1f1b3475b",
   "metadata": {},
   "outputs": [
    {
     "data": {
      "text/html": [
       "<div>\n",
       "<style scoped>\n",
       "    .dataframe tbody tr th:only-of-type {\n",
       "        vertical-align: middle;\n",
       "    }\n",
       "\n",
       "    .dataframe tbody tr th {\n",
       "        vertical-align: top;\n",
       "    }\n",
       "\n",
       "    .dataframe thead th {\n",
       "        text-align: right;\n",
       "    }\n",
       "</style>\n",
       "<table border=\"1\" class=\"dataframe\">\n",
       "  <thead>\n",
       "    <tr style=\"text-align: right;\">\n",
       "      <th></th>\n",
       "      <th>title</th>\n",
       "      <th>subreddit</th>\n",
       "      <th>title_word_count</th>\n",
       "    </tr>\n",
       "  </thead>\n",
       "  <tbody>\n",
       "    <tr>\n",
       "      <th>0</th>\n",
       "      <td>Can I work here two days a week or should I pu...</td>\n",
       "      <td>wholefoods</td>\n",
       "      <td>16</td>\n",
       "    </tr>\n",
       "    <tr>\n",
       "      <th>1</th>\n",
       "      <td>John Mackey and Andy Jassy need to watch this ...</td>\n",
       "      <td>wholefoods</td>\n",
       "      <td>10</td>\n",
       "    </tr>\n",
       "    <tr>\n",
       "      <th>2</th>\n",
       "      <td>This is how entitled customers are</td>\n",
       "      <td>wholefoods</td>\n",
       "      <td>6</td>\n",
       "    </tr>\n",
       "    <tr>\n",
       "      <th>3</th>\n",
       "      <td>How to correct a punch in Krono?</td>\n",
       "      <td>wholefoods</td>\n",
       "      <td>7</td>\n",
       "    </tr>\n",
       "    <tr>\n",
       "      <th>4</th>\n",
       "      <td>Ridiculously Complex and Ambiguous Assessment ...</td>\n",
       "      <td>wholefoods</td>\n",
       "      <td>6</td>\n",
       "    </tr>\n",
       "    <tr>\n",
       "      <th>...</th>\n",
       "      <td>...</td>\n",
       "      <td>...</td>\n",
       "      <td>...</td>\n",
       "    </tr>\n",
       "    <tr>\n",
       "      <th>1995</th>\n",
       "      <td>New BBQ 101 smells great! Let’s see how it is ...</td>\n",
       "      <td>traderjoes</td>\n",
       "      <td>14</td>\n",
       "    </tr>\n",
       "    <tr>\n",
       "      <th>1996</th>\n",
       "      <td>Naturally, I'm confused.</td>\n",
       "      <td>traderjoes</td>\n",
       "      <td>4</td>\n",
       "    </tr>\n",
       "    <tr>\n",
       "      <th>1997</th>\n",
       "      <td>Small TJ’s haul!</td>\n",
       "      <td>traderjoes</td>\n",
       "      <td>4</td>\n",
       "    </tr>\n",
       "    <tr>\n",
       "      <th>1998</th>\n",
       "      <td>The Great Chocolate Mochi Cake Reenactment</td>\n",
       "      <td>traderjoes</td>\n",
       "      <td>6</td>\n",
       "    </tr>\n",
       "    <tr>\n",
       "      <th>1999</th>\n",
       "      <td>Plant haul! \"Pothos,\" oregano, and Pilea cadie...</td>\n",
       "      <td>traderjoes</td>\n",
       "      <td>8</td>\n",
       "    </tr>\n",
       "  </tbody>\n",
       "</table>\n",
       "<p>2000 rows × 3 columns</p>\n",
       "</div>"
      ],
      "text/plain": [
       "                                                  title   subreddit  \\\n",
       "0     Can I work here two days a week or should I pu...  wholefoods   \n",
       "1     John Mackey and Andy Jassy need to watch this ...  wholefoods   \n",
       "2                    This is how entitled customers are  wholefoods   \n",
       "3                      How to correct a punch in Krono?  wholefoods   \n",
       "4     Ridiculously Complex and Ambiguous Assessment ...  wholefoods   \n",
       "...                                                 ...         ...   \n",
       "1995  New BBQ 101 smells great! Let’s see how it is ...  traderjoes   \n",
       "1996                           Naturally, I'm confused.  traderjoes   \n",
       "1997                                   Small TJ’s haul!  traderjoes   \n",
       "1998         The Great Chocolate Mochi Cake Reenactment  traderjoes   \n",
       "1999  Plant haul! \"Pothos,\" oregano, and Pilea cadie...  traderjoes   \n",
       "\n",
       "      title_word_count  \n",
       "0                   16  \n",
       "1                   10  \n",
       "2                    6  \n",
       "3                    7  \n",
       "4                    6  \n",
       "...                ...  \n",
       "1995                14  \n",
       "1996                 4  \n",
       "1997                 4  \n",
       "1998                 6  \n",
       "1999                 8  \n",
       "\n",
       "[2000 rows x 3 columns]"
      ]
     },
     "execution_count": 156,
     "metadata": {},
     "output_type": "execute_result"
    }
   ],
   "source": [
    "#load pre-processed data\n",
    "combine=pd.read_csv('./datasets/subreddit_title.csv')\n",
    "combine"
   ]
  },
  {
   "cell_type": "markdown",
   "id": "b176effb-151d-4c6b-88d8-289eff98fb7e",
   "metadata": {},
   "source": [
    "### Check null model"
   ]
  },
  {
   "cell_type": "code",
   "execution_count": 157,
   "id": "bd75e784-b06e-4090-a216-7af44eda230f",
   "metadata": {},
   "outputs": [
    {
     "data": {
      "text/plain": [
       "wholefoods    0.5\n",
       "traderjoes    0.5\n",
       "Name: subreddit, dtype: float64"
      ]
     },
     "execution_count": 157,
     "metadata": {},
     "output_type": "execute_result"
    }
   ],
   "source": [
    "combine['subreddit'].value_counts(normalize=True)"
   ]
  },
  {
   "cell_type": "markdown",
   "id": "a2b91401-d1f0-4007-858d-d3a83f6df858",
   "metadata": {},
   "source": [
    "* The null model: If we take a guess, we should have 50% chance of accuracy by default."
   ]
  },
  {
   "cell_type": "markdown",
   "id": "646f84e9-6981-4743-bbe1-c2aca1d92a24",
   "metadata": {},
   "source": [
    "## Create X features and target variable y"
   ]
  },
  {
   "cell_type": "code",
   "execution_count": 158,
   "id": "14065243-e118-4e50-b5c2-9abcb80b1bcd",
   "metadata": {},
   "outputs": [],
   "source": [
    "X=combine['title']\n",
    "y=combine['subreddit']"
   ]
  },
  {
   "cell_type": "markdown",
   "id": "23d57b79-d98c-4bdd-8567-f531e50cd593",
   "metadata": {},
   "source": [
    "## Split to train and test datatests"
   ]
  },
  {
   "cell_type": "code",
   "execution_count": 159,
   "id": "471d56d7-87fd-4cb5-bd18-ac8bc0e2c5d5",
   "metadata": {},
   "outputs": [],
   "source": [
    "X_train, X_test, y_train, y_test=train_test_split(X, y, random_state=42, stratify=y)"
   ]
  },
  {
   "cell_type": "markdown",
   "id": "7326e375-2f3c-4e58-98a2-88b6e70891fe",
   "metadata": {},
   "source": [
    "## Define functions for Pipeline, GridSearchCV and Plot confusion matrix"
   ]
  },
  {
   "cell_type": "markdown",
   "id": "36251b7e-e473-4f56-82b1-17cb5a641b03",
   "metadata": {},
   "source": [
    "#### 1. Define a function to take an estimator create a pipeline for CountVectorizer"
   ]
  },
  {
   "cell_type": "code",
   "execution_count": 160,
   "id": "cf55ca05-a27f-4496-ad74-2fff17a94d67",
   "metadata": {},
   "outputs": [],
   "source": [
    "# define pipeline\n",
    "def cv_pipeline(estimator):\n",
    "    pipe=Pipeline([\n",
    "    ('cv',CountVectorizer(min_df=2)),#this is modified after seeing min_df=2 is better for most of model from grid_search to save compute time\n",
    "    ('e', estimator)\n",
    "])\n",
    "    pipe.fit(X_train, y_train)\n",
    "    print(f'train score: {pipe.score(X_train, y_train)}')\n",
    "    print(f'test score:{pipe.score(X_test, y_test)}')\n",
    "    return pipe"
   ]
  },
  {
   "cell_type": "markdown",
   "id": "35bc85fb-eb15-4290-9c25-9683ae832615",
   "metadata": {},
   "source": [
    "#### 2. define a function to take an estimator, grid parameters"
   ]
  },
  {
   "cell_type": "code",
   "execution_count": 161,
   "id": "9a4a9d4b-b15c-44c7-8ebd-c4ddd9ef3403",
   "metadata": {},
   "outputs": [],
   "source": [
    "#define a function to grid search on a given pipeline estimator and grid params\n",
    "def grid_search(pipe, params):\n",
    "    gd=GridSearchCV(estimator=pipe, param_grid=params, verbose=1)\n",
    "    gd.fit(X_train, y_train)\n",
    "    print(f'gridsearch train score: {gd.score(X_train, y_train)}.\\ngridsearch test score: {gd.score(X_test, y_test)}.')\n",
    "    print(f'gridsearch best parameters: {gd.best_params_}')\n",
    "    return gd"
   ]
  },
  {
   "cell_type": "markdown",
   "id": "f9035637-64a8-438c-906c-564abd4b21a5",
   "metadata": {},
   "source": [
    "#### 3. define a function to plot confusion matrix for an given estimator"
   ]
  },
  {
   "cell_type": "code",
   "execution_count": 162,
   "id": "768ad317-7696-43b3-b755-47fbf7b89ecd",
   "metadata": {},
   "outputs": [],
   "source": [
    "#define a function to plot confusion matrix for an given estimator\n",
    "def plot_confusion_matrix(estimator):\n",
    "    'This function should only be used on a fited model'\n",
    "    cm=confusion_matrix(y_true=y_test, y_pred=estimator.predict(X_test))\n",
    "    disp=ConfusionMatrixDisplay(confusion_matrix=cm, display_labels=estimator.classes_)\n",
    "    disp.plot()"
   ]
  },
  {
   "cell_type": "markdown",
   "id": "4bb6587a-6de6-4e55-a132-d057d8fcdebd",
   "metadata": {},
   "source": [
    "## Modeling Screening\n",
    "\n",
    "* 4 Models have been explored:\n",
    "1. Random Forest Classifier\n",
    "2. MultinomialNB\n",
    "3. AdaBoost Classifier\n",
    "4. SVM model\n",
    "\n",
    "**The objective is to find the best model with the highest accuracy and a good generalizing model**\n",
    "\n",
    "After comparing the fit score, a votingclassifier was done on the two comparable models with distinct recall scores:\n",
    "* Random Forest Classifier vs. MultinomialNB"
   ]
  },
  {
   "cell_type": "markdown",
   "id": "846de2f4-195a-466b-acba-da5b91f21898",
   "metadata": {},
   "source": [
    "### 1. Randomforest classifier pipeline"
   ]
  },
  {
   "cell_type": "code",
   "execution_count": 163,
   "id": "21ed97d9-01e5-4a8b-b1ed-42f431ea9e0a",
   "metadata": {},
   "outputs": [
    {
     "name": "stdout",
     "output_type": "stream",
     "text": [
      "train score: 0.9966666666666667\n",
      "test score:0.882\n"
     ]
    }
   ],
   "source": [
    "#instantiate a random forest classifier\n",
    "rfc=RandomForestClassifier(random_state=42)\n",
    "\n",
    "#call the rfc_pipe function\n",
    "rfc_pipe=cv_pipeline(rfc)"
   ]
  },
  {
   "cell_type": "code",
   "execution_count": 177,
   "id": "0ddbc22d-dede-4664-809c-e217fb640e8a",
   "metadata": {},
   "outputs": [
    {
     "data": {
      "image/png": "[encoded data removed]",
      "text/plain": [
       "<Figure size 432x288 with 2 Axes>"
      ]
     },
     "metadata": {
      "needs_background": "light"
     },
     "output_type": "display_data"
    }
   ],
   "source": [
    "plot_confusion_matrix(rfc_pipe)"
   ]
  },
  {
   "cell_type": "markdown",
   "id": "328e7a48-56d9-4cfc-974c-405b0a98950b",
   "metadata": {},
   "source": [
    "#### Gridsearch over randomforest classifier"
   ]
  },
  {
   "cell_type": "code",
   "execution_count": 164,
   "id": "e5767f9a-ba6c-4bdf-b237-e07dddb24356",
   "metadata": {},
   "outputs": [],
   "source": [
    "params={\n",
    "    'cv__min_df':[1,2],\n",
    "    'e__n_estimators':[100,500,700],\n",
    "    'e__min_samples_split':[3,5,7],\n",
    "    'e__ccp_alpha':np.linspace(0.00001,1,20)\n",
    "}"
   ]
  },
  {
   "cell_type": "code",
   "execution_count": 165,
   "id": "e89ef8d7-ab99-4fbd-aa6a-cff9c2b25b65",
   "metadata": {},
   "outputs": [
    {
     "name": "stdout",
     "output_type": "stream",
     "text": [
      "Fitting 5 folds for each of 180 candidates, totalling 900 fits\n",
      "gridsearch train score: 0.9893333333333333.\n",
      "gridsearch test score: 0.878.\n",
      "gridsearch best parameters: {'e__ccp_alpha': 1e-05, 'e__min_samples_split': 7, 'e__n_estimators': 700}\n"
     ]
    }
   ],
   "source": [
    "rfc_gd=grid_search(rfc_pipe, params)"
   ]
  },
  {
   "cell_type": "code",
   "execution_count": 166,
   "id": "d24c1f12-f807-4642-b217-52fa67e00573",
   "metadata": {},
   "outputs": [
    {
     "data": {
      "image/png": "[encoded data removed]",
      "text/plain": [
       "<Figure size 432x288 with 2 Axes>"
      ]
     },
     "metadata": {
      "needs_background": "light"
     },
     "output_type": "display_data"
    }
   ],
   "source": [
    "plot_confusion_matrix(rfc_gd)"
   ]
  },
  {
   "cell_type": "markdown",
   "id": "35a6a38a-c271-44cc-84f3-cd89c1604008",
   "metadata": {},
   "source": [
    "### 2. MultinomialNB pipeline"
   ]
  },
  {
   "cell_type": "code",
   "execution_count": 167,
   "id": "8228f8b9-66de-466c-ab6d-b4846ba5c600",
   "metadata": {},
   "outputs": [
    {
     "name": "stdout",
     "output_type": "stream",
     "text": [
      "train score: 0.9526666666666667\n",
      "test score:0.884\n"
     ]
    }
   ],
   "source": [
    "#instantiate a multinomialNB object\n",
    "mnb=MultinomialNB()\n",
    "\n",
    "mnb_pipe=cv_pipeline(mnb)"
   ]
  },
  {
   "cell_type": "code",
   "execution_count": 168,
   "id": "3b1f222b-9845-4ac0-971a-4244cb704b8a",
   "metadata": {},
   "outputs": [
    {
     "data": {
      "image/png": "[encoded data removed]",
      "text/plain": [
       "<Figure size 432x288 with 2 Axes>"
      ]
     },
     "metadata": {
      "needs_background": "light"
     },
     "output_type": "display_data"
    }
   ],
   "source": [
    "plot_confusion_matrix(mnb_pipe)"
   ]
  },
  {
   "cell_type": "markdown",
   "id": "294c68ba-d253-455a-a11f-c897cc4df020",
   "metadata": {},
   "source": [
    "#### Gridsearch over multinomialNB pipeline"
   ]
  },
  {
   "cell_type": "code",
   "execution_count": 182,
   "id": "33e78b13-e4fb-4236-adcf-79d2d39cf2e1",
   "metadata": {},
   "outputs": [],
   "source": [
    "params={\n",
    "    'cv__min_df':[1,2],\n",
    "    'cv__ngram_range':[(1,1)],\n",
    "    'cv__max_features':[None,8,30]\n",
    "}"
   ]
  },
  {
   "cell_type": "code",
   "execution_count": 183,
   "id": "33d64e89-45f9-4799-8dd9-54bb8a37fd3e",
   "metadata": {},
   "outputs": [
    {
     "name": "stdout",
     "output_type": "stream",
     "text": [
      "Fitting 5 folds for each of 6 candidates, totalling 30 fits\n",
      "gridsearch train score: 0.9786666666666667.\n",
      "gridsearch test score: 0.888.\n",
      "gridsearch best parameters: {'cv__max_features': None, 'cv__min_df': 1, 'cv__ngram_range': (1, 1)}\n"
     ]
    }
   ],
   "source": [
    "mnb_gd=grid_search(mnb_pipe, params)"
   ]
  },
  {
   "cell_type": "code",
   "execution_count": 184,
   "id": "b9d1b6fd-0964-45d9-98b9-512240b98054",
   "metadata": {},
   "outputs": [
    {
     "data": {
      "image/png": "[encoded data removed]",
      "text/plain": [
       "<Figure size 432x288 with 2 Axes>"
      ]
     },
     "metadata": {
      "needs_background": "light"
     },
     "output_type": "display_data"
    }
   ],
   "source": [
    "plot_confusion_matrix(mnb_gd)"
   ]
  },
  {
   "cell_type": "markdown",
   "id": "c031b86e-bed2-47ca-a91f-c85816b9dd58",
   "metadata": {},
   "source": [
    "### 3. AdaBoostClassifier pipeline"
   ]
  },
  {
   "cell_type": "code",
   "execution_count": 172,
   "id": "d012d5f9-8f3e-4c5a-82fd-35a9d2ea07eb",
   "metadata": {},
   "outputs": [
    {
     "name": "stdout",
     "output_type": "stream",
     "text": [
      "train score: 0.878\n",
      "test score:0.826\n"
     ]
    }
   ],
   "source": [
    "abc=AdaBoostClassifier()\n",
    "abc_pipe=cv_pipeline(abc)"
   ]
  },
  {
   "cell_type": "code",
   "execution_count": 175,
   "id": "6139e656-e0ca-46a6-b91d-fd78305bb4b1",
   "metadata": {},
   "outputs": [],
   "source": [
    "params={\n",
    "    'cv__min_df':[1,2],\n",
    "    'cv__ngram_range':[(1,1),(1,2)],\n",
    "    'cv__max_features':[None, 3, 5],\n",
    "    'e__n_estimators':[50, 150, 200]\n",
    "}"
   ]
  },
  {
   "cell_type": "markdown",
   "id": "64af82d1-a8e2-4f0f-ab31-1919a158f6ea",
   "metadata": {},
   "source": [
    "#### Gridsearch over AdaBoostClassifier pipeline"
   ]
  },
  {
   "cell_type": "code",
   "execution_count": 176,
   "id": "211fe8b8-bbb7-498c-b6df-f510e1bced83",
   "metadata": {},
   "outputs": [
    {
     "name": "stdout",
     "output_type": "stream",
     "text": [
      "Fitting 5 folds for each of 54 candidates, totalling 270 fits\n",
      "gridsearch train score: 0.9566666666666667.\n",
      "gridsearch test score: 0.842.\n",
      "gridsearch best parameters: {'cv__max_features': None, 'cv__min_df': 1, 'cv__ngram_range': (1, 2), 'e__n_estimators': 150}\n"
     ]
    }
   ],
   "source": [
    "abc_grid=grid_search(abc_pipe, params)"
   ]
  },
  {
   "cell_type": "code",
   "execution_count": 185,
   "id": "0b118daf-2a33-43f0-a35b-999b1006c97b",
   "metadata": {},
   "outputs": [
    {
     "data": {
      "image/png": "[encoded data removed]",
      "text/plain": [
       "<Figure size 432x288 with 2 Axes>"
      ]
     },
     "metadata": {
      "needs_background": "light"
     },
     "output_type": "display_data"
    }
   ],
   "source": [
    "plot_confusion_matrix(abc_grid)"
   ]
  },
  {
   "cell_type": "markdown",
   "id": "7f3cc562-866a-41bf-927a-239ef9055142",
   "metadata": {},
   "source": [
    "### 4. SVM model"
   ]
  },
  {
   "cell_type": "code",
   "execution_count": 186,
   "id": "30beb3d0-a8a5-4016-800b-0eb18780784c",
   "metadata": {},
   "outputs": [
    {
     "name": "stdout",
     "output_type": "stream",
     "text": [
      "train score: 0.96\n",
      "test score:0.85\n"
     ]
    }
   ],
   "source": [
    "svc=SVC()\n",
    "svc_pipe=cv_pipeline(svc)"
   ]
  },
  {
   "cell_type": "code",
   "execution_count": 187,
   "id": "f634ed31-c3a7-47e1-bc44-88ab8ca1f4da",
   "metadata": {},
   "outputs": [],
   "source": [
    "params={\n",
    "    'cv__min_df':[1,2],\n",
    "    'cv__ngram_range':[(1,1),(1,2)],\n",
    "    'cv__max_features':[None, 3, 5],\n",
    "    'e__C':np.linspace(1,10,20),\n",
    "    'e__kernel':['poly', 'rbf', 'sigmoid'],\n",
    "    'e__degree':[2,3,4]\n",
    "}"
   ]
  },
  {
   "cell_type": "markdown",
   "id": "528cf16b-6d4c-4946-b468-3c38096e873b",
   "metadata": {},
   "source": [
    "#### Gridsearch over SVC pipeline"
   ]
  },
  {
   "cell_type": "code",
   "execution_count": 188,
   "id": "07381f91-3982-4ae4-8a60-59f4739bf530",
   "metadata": {},
   "outputs": [
    {
     "name": "stdout",
     "output_type": "stream",
     "text": [
      "Fitting 5 folds for each of 180 candidates, totalling 900 fits\n",
      "gridsearch train score: 0.994.\n",
      "gridsearch test score: 0.856.\n",
      "gridsearch best parameters: {'e__C': 3.8421052631578947, 'e__degree': 2, 'e__kernel': 'rbf'}\n"
     ]
    }
   ],
   "source": [
    "svc_grid=grid_search(svc_pipe, params)"
   ]
  },
  {
   "cell_type": "code",
   "execution_count": 189,
   "id": "974357a3-a097-4d60-bffe-26d34e5ed8e5",
   "metadata": {},
   "outputs": [
    {
     "data": {
      "image/png": "[encoded data removed]",
      "text/plain": [
       "<Figure size 432x288 with 2 Axes>"
      ]
     },
     "metadata": {
      "needs_background": "light"
     },
     "output_type": "display_data"
    }
   ],
   "source": [
    "plot_confusion_matrix(svc_grid)"
   ]
  },
  {
   "cell_type": "markdown",
   "id": "7f2c50c6-8416-4172-a13d-e9cc48b6b2f8",
   "metadata": {},
   "source": [
    "## VotingClassifier on two models with comparable accuracy score\n",
    "* Random Forest Classifier and MultinominalNB"
   ]
  },
  {
   "cell_type": "code",
   "execution_count": 190,
   "id": "aa4b73ed-4365-424b-a538-555a185f2edd",
   "metadata": {},
   "outputs": [],
   "source": [
    "from sklearn.ensemble import VotingClassifier"
   ]
  },
  {
   "cell_type": "code",
   "execution_count": 191,
   "id": "7fa28c8f-63fe-459e-889b-e9609bcbf0bd",
   "metadata": {},
   "outputs": [],
   "source": [
    "cv=CountVectorizer(min_df=2)\n",
    "X_train_cv=cv.fit_transform(X_train)\n",
    "X_test_cv=cv.transform(X_test)\n"
   ]
  },
  {
   "cell_type": "code",
   "execution_count": 192,
   "id": "a8633efc-d407-4ad9-b480-8537223c3bd7",
   "metadata": {},
   "outputs": [],
   "source": [
    "rfc_best=RandomForestClassifier(n_estimators=500, ccp_alpha=1e-05, min_samples_split=5, random_state=42)\n",
    "mnb=MultinomialNB()"
   ]
  },
  {
   "cell_type": "code",
   "execution_count": 193,
   "id": "9a51b59b-7dc4-4f14-a73b-1ffdae783c03",
   "metadata": {},
   "outputs": [],
   "source": [
    "vc=VotingClassifier(estimators=[('rfc',rfc_best), ('mnb',mnb)], voting='soft')"
   ]
  },
  {
   "cell_type": "code",
   "execution_count": 194,
   "id": "17ddd6b1-2c1a-428c-8d3a-13e5d3e53561",
   "metadata": {},
   "outputs": [
    {
     "data": {
      "text/plain": [
       "(0.9766666666666667, 0.898)"
      ]
     },
     "execution_count": 194,
     "metadata": {},
     "output_type": "execute_result"
    }
   ],
   "source": [
    "vc.fit(X_train_cv, y_train)\n",
    "vc.score(X_train_cv, y_train), vc.score(X_test_cv, y_test)"
   ]
  },
  {
   "cell_type": "code",
   "execution_count": 195,
   "id": "967a9ce6-431e-4eae-aa11-b744343bb50e",
   "metadata": {},
   "outputs": [
    {
     "data": {
      "image/png": "[encoded data removed]",
      "text/plain": [
       "<Figure size 432x288 with 2 Axes>"
      ]
     },
     "metadata": {
      "needs_background": "light"
     },
     "output_type": "display_data"
    }
   ],
   "source": [
    "#define a function to plot confusion matrix for an given estimator\n",
    "def plot_confusion_matrix_1(estimator):\n",
    "    'This function should only be used on a fited model'\n",
    "    cm=confusion_matrix(y_true=y_test, y_pred=estimator.predict(X_test_cv))\n",
    "    disp=ConfusionMatrixDisplay(confusion_matrix=cm, display_labels=estimator.classes_)\n",
    "    disp.plot()\n",
    "    \n",
    "plot_confusion_matrix_1(vc)"
   ]
  },
  {
   "cell_type": "markdown",
   "id": "16a0c32e-a238-4dff-9bd1-7052b4f977c5",
   "metadata": {},
   "source": [
    "### Classification report on votingclassifier, muntinomialNB and randomforest classifier"
   ]
  },
  {
   "cell_type": "code",
   "execution_count": 196,
   "id": "b1b514a9-9c79-449d-a7f0-997ea2e84952",
   "metadata": {},
   "outputs": [
    {
     "name": "stdout",
     "output_type": "stream",
     "text": [
      "              precision    recall  f1-score   support\n",
      "\n",
      "  traderjoes       0.93      0.86      0.89       250\n",
      "  wholefoods       0.87      0.94      0.90       250\n",
      "\n",
      "    accuracy                           0.90       500\n",
      "   macro avg       0.90      0.90      0.90       500\n",
      "weighted avg       0.90      0.90      0.90       500\n",
      "\n"
     ]
    }
   ],
   "source": [
    "print(classification_report(y_test, vc.predict(X_test_cv)))"
   ]
  },
  {
   "cell_type": "code",
   "execution_count": 201,
   "id": "08c3b53e-0d66-4d1e-b322-d9d7180a25a2",
   "metadata": {
    "tags": []
   },
   "outputs": [
    {
     "name": "stdout",
     "output_type": "stream",
     "text": [
      "              precision    recall  f1-score   support\n",
      "\n",
      "  traderjoes       0.87      0.91      0.89       250\n",
      "  wholefoods       0.90      0.87      0.89       250\n",
      "\n",
      "    accuracy                           0.89       500\n",
      "   macro avg       0.89      0.89      0.89       500\n",
      "weighted avg       0.89      0.89      0.89       500\n",
      "\n"
     ]
    }
   ],
   "source": [
    "print(classification_report(y_test, mnb_gd.predict(X_test)))"
   ]
  },
  {
   "cell_type": "code",
   "execution_count": 200,
   "id": "fdc7dfa0-9ead-468f-baea-df521cd7ee0b",
   "metadata": {},
   "outputs": [
    {
     "name": "stdout",
     "output_type": "stream",
     "text": [
      "              precision    recall  f1-score   support\n",
      "\n",
      "  traderjoes       0.93      0.83      0.88       250\n",
      "  wholefoods       0.84      0.94      0.89       250\n",
      "\n",
      "    accuracy                           0.88       500\n",
      "   macro avg       0.89      0.88      0.88       500\n",
      "weighted avg       0.89      0.88      0.88       500\n",
      "\n"
     ]
    }
   ],
   "source": [
    "print(classification_report(y_test, rfc_pipe.predict(X_test)))"
   ]
  },
  {
   "cell_type": "markdown",
   "id": "1ec5bcda-3988-4f7c-9a87-d55e532c4838",
   "metadata": {},
   "source": [
    "### Final model performance summary"
   ]
  },
  {
   "cell_type": "markdown",
   "id": "078ef536-69e4-456f-bbc0-7fde7217c731",
   "metadata": {},
   "source": [
    "**Votingclassfier further improved the accuracy from 0.88 to 0.90**\n",
    "\n",
    "||Accuracy|Precision|Recall(pos=traderjoes)|\n",
    "|---|---|---|---|\n",
    "|**VotingClassifier**|0.9|0.93|0.86|\n",
    "|**MultinomialNB**|0.88|0.87|0.9|\n",
    "|**RandomForestClassifier**|0.88|0.93|0.83|\n",
    "\n",
    "\n",
    "**Model recommendation should be tailored to customer need:**\n",
    "* If the customer cares the total correctly prediction for both stores, VotingClassifier is recommended.\n",
    "* If my customer cares more accurate prediction on Trader Joe's posts, in other word, a higher recall score for Trader Joes, Multinomial NB model is recommended."
   ]
  },
  {
   "cell_type": "code",
   "execution_count": 2,
   "id": "a7a1e561-0cd0-48b9-a1ec-c02ae6cd6022",
   "metadata": {},
   "outputs": [
    {
     "ename": "NameError",
     "evalue": "name 'vc' is not defined",
     "output_type": "error",
     "traceback": [
      "\u001b[1;31m---------------------------------------------------------------------------\u001b[0m",
      "\u001b[1;31mNameError\u001b[0m                                 Traceback (most recent call last)",
      "\u001b[1;32m<ipython-input-2-c4077724285e>\u001b[0m in \u001b[0;36m<module>\u001b[1;34m\u001b[0m\n\u001b[1;32m----> 1\u001b[1;33m \u001b[0mvc\u001b[0m\u001b[1;33m.\u001b[0m\u001b[0mpredict\u001b[0m\u001b[1;33m(\u001b[0m\u001b[1;33m[\u001b[0m\u001b[1;34m'I am crave for cheap organic produce!'\u001b[0m\u001b[1;33m]\u001b[0m\u001b[1;33m)\u001b[0m\u001b[1;33m\u001b[0m\u001b[1;33m\u001b[0m\u001b[0m\n\u001b[0m",
      "\u001b[1;31mNameError\u001b[0m: name 'vc' is not defined"
     ]
    }
   ],
   "source": [
    "vc.predict(['I am crave for cheap organic produce!'])"
   ]
  },
  {
   "cell_type": "code",
   "execution_count": 1,
   "id": "3b82fb76-0f6e-429e-b433-1771e2a7d65a",
   "metadata": {},
   "outputs": [],
   "source": [
    "import pickle"
   ]
  },
  {
   "cell_type": "code",
   "execution_count": 3,
   "id": "e7205717-884b-42a6-9fc0-3f7d798069e4",
   "metadata": {},
   "outputs": [
    {
     "ename": "NameError",
     "evalue": "name 'vc' is not defined",
     "output_type": "error",
     "traceback": [
      "\u001b[1;31m---------------------------------------------------------------------------\u001b[0m",
      "\u001b[1;31mNameError\u001b[0m                                 Traceback (most recent call last)",
      "\u001b[1;32m<ipython-input-3-4d2714ca4182>\u001b[0m in \u001b[0;36m<module>\u001b[1;34m\u001b[0m\n\u001b[0;32m      1\u001b[0m \u001b[1;32mwith\u001b[0m \u001b[0mopen\u001b[0m\u001b[1;33m(\u001b[0m\u001b[1;34m'predict_reddit.pkl'\u001b[0m\u001b[1;33m,\u001b[0m \u001b[0mmode\u001b[0m\u001b[1;33m=\u001b[0m\u001b[1;34m'wb'\u001b[0m\u001b[1;33m)\u001b[0m \u001b[1;32mas\u001b[0m \u001b[0mpickle_out\u001b[0m\u001b[1;33m:\u001b[0m\u001b[1;33m\u001b[0m\u001b[1;33m\u001b[0m\u001b[0m\n\u001b[1;32m----> 2\u001b[1;33m     \u001b[0mpickle\u001b[0m\u001b[1;33m.\u001b[0m\u001b[0mdump\u001b[0m\u001b[1;33m(\u001b[0m\u001b[0mvc\u001b[0m\u001b[1;33m,\u001b[0m \u001b[0mpre_dict_reddit\u001b[0m\u001b[1;33m.\u001b[0m\u001b[0mpkl\u001b[0m\u001b[1;33m)\u001b[0m\u001b[1;33m\u001b[0m\u001b[1;33m\u001b[0m\u001b[0m\n\u001b[0m",
      "\u001b[1;31mNameError\u001b[0m: name 'vc' is not defined"
     ]
    }
   ],
   "source": [
    "with open('predict_reddit.pkl', mode='wb') as pickle_out:\n",
    "    pickle.dump(vc, pre_dict_reddit.pkl)"
   ]
  },
  {
   "cell_type": "code",
   "execution_count": null,
   "id": "cce28e13-1699-484e-be55-f7dce6f0f32a",
   "metadata": {},
   "outputs": [],
   "source": []
  }
 ],
 "metadata": {
  "kernelspec": {
   "display_name": "Python 3",
   "language": "python",
   "name": "python3"
  },
  "language_info": {
   "codemirror_mode": {
    "name": "ipython",
    "version": 3
   },
   "file_extension": ".py",
   "mimetype": "text/x-python",
   "name": "python",
   "nbconvert_exporter": "python",
   "pygments_lexer": "ipython3",
   "version": "3.8.8"
  }
 },
 "nbformat": 4,
 "nbformat_minor": 5
}
