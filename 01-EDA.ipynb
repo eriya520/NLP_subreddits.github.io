{
 "cells": [
  {
   "cell_type": "markdown",
   "id": "ba97b1fb-cecd-4f77-b12e-ca2ec892090e",
   "metadata": {},
   "source": [
    "# Subreddit sentiments on Trader Joe's vs. Wholefoods"
   ]
  },
  {
   "cell_type": "markdown",
   "id": "694c03b3-4354-4154-905a-47f14148a965",
   "metadata": {},
   "source": [
    "Trader Joe's and Wholefoods are two popular grocery chains who boast organic and sustainable products.\n",
    "\n",
    "![alt text](https://shriyagettingsocial.files.wordpress.com/2014/02/whole-foods-vs-trader-joes.png \"Logo Title Text 1\")\n",
    "\n",
    "Trader Joe's in general has small store, handwritten signs, formatted layout, mostly TJ's own brands with limited other brands emphasizing organic, high quality gourmets, creating a predicted shopping experience similar to the stores in local community.[[1]](https://radiantbrands.com/trader-joes-vs-whole-foods-are-they-the-same-customers-for-different-brands/)\n",
    "Whole Foods has a wide range of products and brands including its own brand (365), the store are generally larger, and also provide online order with same-day delivery option with amazon prime membership in many big cities. It also emphasizes natural, sustainable and organic materials and sourcing.[[1]](https://radiantbrands.com/trader-joes-vs-whole-foods-are-they-the-same-customers-for-different-brands/)\n",
    "\n",
    "**These two chain are are different in many aspects, but they are often considered as competitors.** Endless debates online over who has the best organic brands, who has the best low price yet high quality food, etc. Why is this the case? This is mostly because they share the same customers. Studies showed that customers who seek high quality and low price organic gourmet tends to visit both stores.[[2]](https://www.grocerydive.com/news/why-trader-joes-traffic-has-recovered-but-whole-foods-hasnt/587536/)\n",
    "\n",
    "Pandemic had an impact on in-store visits in general, and it has been recovered slightly after reopen of stores/business across the country early this year; **however, in the showdown, Whole foods still fall behind Trader Joe's.** Whole Foods trying to improve the situation by providing online grocery orders to amazon prime members, a big advantage over Trader Joe's, but still it did not even out the loss for in-store visit.[[2]](https://www.grocerydive.com/news/why-trader-joes-traffic-has-recovered-but-whole-foods-hasnt/587536/) On ther other hand, despite of lack of a big e-commerce giant's support, Trader Joe's has seen an recovery of frequent visit in store.\n",
    "\n",
    "The major complain on wholefoods is the price, the price for organic products are higher than average.[[3]](https://www.businessinsider.com/whole-foods-or-trader-joes-best-healthy-grocery-store-2019-8#though-everything-looked-fresh-we-couldnt-help-be-put-off-by-the-prices-that-seemed-to-be-higher-than-average-the-prices-plus-the-chic-atmosphere-made-the-shopping-experience-seem-more-high-end-and-not-tailored-to-the-average-customer-9)    **In the organic-grocery-market showdown, Trader Joe's wins the cake.**\n",
    "\n",
    "\n"
   ]
  },
  {
   "cell_type": "markdown",
   "id": "c0f1f0e0-e11c-4f9b-84e9-3884e5982dcf",
   "metadata": {},
   "source": [
    "### How is the sentiment on Trader Joe's and Whole Foods reflected in the subreddits posts?\n",
    "* We'll look into the 1000 recent subreddit posts for each 'wholefoods' and 'traderjoes' and investigate their comments on both food stores. \n",
    "* Investigate the positive, negative and overall sentiment score on the sbureddit posts on the two grocery chain stores.\n",
    "* Explore various modeling algorithms to predict the subreddit posts as in Trader Joe's or Whole Foods category."
   ]
  },
  {
   "cell_type": "code",
   "execution_count": 4,
   "id": "ea194836-4a12-4a72-8a4e-aa132d7680a4",
   "metadata": {},
   "outputs": [],
   "source": [
    "#imports\n",
    "import requests\n",
    "import pandas as pd\n",
    "import matplotlib.pyplot as plt\n",
    "import re\n",
    "import time\n",
    "\n",
    "from nltk.sentiment.vader import SentimentIntensityAnalyzer\n",
    "from sklearn.feature_extraction.text import CountVectorizer"
   ]
  },
  {
   "cell_type": "code",
   "execution_count": 5,
   "id": "7e91e867-2bb9-4a86-b62c-775116505245",
   "metadata": {},
   "outputs": [],
   "source": [
    "#define a function to get the res\n",
    "def get_requests(subreddit,epoch_time):\n",
    "    url='https://api.pushshift.io/reddit/search/submission'\n",
    "    df_list=[]\n",
    "    for _ in range(10):\n",
    "        params={\n",
    "            'subreddit':subreddit,\n",
    "            'size':100,\n",
    "            'before':epoch_time}\n",
    "        res=requests.get(url,params)\n",
    "        data=res.json()\n",
    "        epoch_time=data['data'][-1]['created_utc']\n",
    "        print(res.status_code)\n",
    "        print(epoch_time)\n",
    "        post_df=pd.DataFrame(data['data'])\n",
    "        df_list.append(post_df)\n",
    "        time.sleep(3)\n",
    "    return pd.concat(df_list)"
   ]
  },
  {
   "cell_type": "code",
   "execution_count": 6,
   "id": "2f037a82-1d7f-4cd4-9ddc-00cd32b31315",
   "metadata": {
    "tags": []
   },
   "outputs": [
    {
     "name": "stdout",
     "output_type": "stream",
     "text": [
      "200\n",
      "1632158318\n",
      "200\n",
      "1631448653\n",
      "200\n",
      "1630778865\n",
      "200\n",
      "1630071955\n",
      "200\n",
      "1629393470\n",
      "200\n",
      "1628520632\n",
      "200\n",
      "1627767962\n",
      "200\n",
      "1627092553\n",
      "200\n",
      "1626481915\n",
      "200\n",
      "1625553358\n"
     ]
    }
   ],
   "source": [
    "wholefoods=get_requests('wholefoods',1632922497)"
   ]
  },
  {
   "cell_type": "code",
   "execution_count": 7,
   "id": "1364192e-9606-4967-891c-d8bc48362b0e",
   "metadata": {
    "tags": []
   },
   "outputs": [
    {
     "name": "stdout",
     "output_type": "stream",
     "text": [
      "200\n",
      "1632613203\n",
      "200\n",
      "1632254283\n",
      "200\n",
      "1631990555\n",
      "200\n",
      "1631672074\n",
      "200\n",
      "1631468251\n",
      "200\n",
      "1631235400\n",
      "200\n",
      "1630949624\n",
      "200\n",
      "1630460267\n",
      "200\n",
      "1630112958\n",
      "200\n",
      "1629690269\n"
     ]
    }
   ],
   "source": [
    "traderjoes=get_requests('traderjoes',1632922497)"
   ]
  },
  {
   "cell_type": "code",
   "execution_count": 8,
   "id": "3075bdc6-b28e-4115-8d60-96d23d40a77d",
   "metadata": {},
   "outputs": [],
   "source": [
    "#create the dataframe with only title and subreddit columns for wholefoods\n",
    "wf_df = wholefoods[['title','subreddit']]\n",
    "\n",
    "#create the dataframe with only title and subreddit columns for trader joes\n",
    "tj_df = traderjoes[['title','subreddit']]\n",
    "\n",
    "#combine the wholefoods and trader joes dataframe into one\n",
    "df=pd.concat([wf_df,tj_df])"
   ]
  },
  {
   "cell_type": "code",
   "execution_count": 9,
   "id": "4f1c7e61-5fd0-456b-8825-a5fcdaa5f1ba",
   "metadata": {},
   "outputs": [
    {
     "data": {
      "text/plain": [
       "(2000, 2)"
      ]
     },
     "execution_count": 9,
     "metadata": {},
     "output_type": "execute_result"
    }
   ],
   "source": [
    "#verify the size of the df\n",
    "df.shape"
   ]
  },
  {
   "cell_type": "code",
   "execution_count": 10,
   "id": "0f1a5ca9-bc94-43ff-9f94-2092d7ff108e",
   "metadata": {},
   "outputs": [],
   "source": [
    "#expot the datafile to a csv file for modeling\n",
    "#df.to_csv('datasets/subreddit_title.csv', index=False)"
   ]
  },
  {
   "cell_type": "markdown",
   "id": "ce151f21-7bf1-4029-aa82-dd507ee06782",
   "metadata": {},
   "source": [
    "### EDA on subreddit posts"
   ]
  },
  {
   "cell_type": "code",
   "execution_count": 11,
   "id": "601f3158-24c1-4711-b6dc-169ea85026cb",
   "metadata": {},
   "outputs": [],
   "source": [
    "#create a column with word counts\n",
    "df['title_word_count']=[len(re.findall(r'\\w+',item)) for item in df['title']]"
   ]
  },
  {
   "cell_type": "code",
   "execution_count": 50,
   "id": "8f18bd46-dc16-475c-8fde-48640e4cdda1",
   "metadata": {},
   "outputs": [
    {
     "data": {
      "image/png": "[encoded data removed]",
      "text/plain": [
       "<Figure size 432x288 with 1 Axes>"
      ]
     },
     "metadata": {
      "needs_background": "light"
     },
     "output_type": "display_data"
    }
   ],
   "source": [
    "#create a histogram plot to show the distriution of word counts in titles\n",
    "df['title_word_count'].hist(bins=35, grid=False, edgecolor='black', linewidth=.4, label='both stores')\n",
    "plt.legend(loc=0)\n",
    "plt.xlabel('Word counts')\n",
    "plt.title('Distribution of word count in titles from subreddits');"
   ]
  },
  {
   "cell_type": "code",
   "execution_count": 51,
   "id": "646d59e6-056d-427d-bdb4-110878d2aae0",
   "metadata": {},
   "outputs": [
    {
     "data": {
      "image/png": "[encoded data removed]",
      "text/plain": [
       "<Figure size 432x288 with 1 Axes>"
      ]
     },
     "metadata": {
      "needs_background": "light"
     },
     "output_type": "display_data"
    }
   ],
   "source": [
    "#check the word count distribution for wholefoods\n",
    "df.loc[df['subreddit'] =='wholefoods',['title_word_count']].hist(bins=35, grid=False, edgecolor='black', linewidth=.4, label='Whole Foods')\n",
    "plt.legend(loc=0)\n",
    "plt.xlabel('Word counts')\n",
    "plt.title('Distribution of word count in titles for Whole Foods');"
   ]
  },
  {
   "cell_type": "code",
   "execution_count": 54,
   "id": "21db8309-e097-4ce9-b0bf-27611fd9d755",
   "metadata": {},
   "outputs": [
    {
     "data": {
      "image/png": "[encoded data removed]",
      "text/plain": [
       "<Figure size 432x288 with 1 Axes>"
      ]
     },
     "metadata": {
      "needs_background": "light"
     },
     "output_type": "display_data"
    }
   ],
   "source": [
    "#check the word count distribution for traderjoes\n",
    "df.loc[df['subreddit'] =='traderjoes',['title_word_count']].hist(bins=35, grid=False, edgecolor='black', linewidth=.4, label='Trader Joe\\'s')\n",
    "plt.legend(loc=0)\n",
    "plt.xlabel('Word counts')\n",
    "plt.title('Distribution of word count in titles for Trader Joe\\'s');"
   ]
  },
  {
   "cell_type": "markdown",
   "id": "706594ff-ca22-4521-86ea-942c4e939d17",
   "metadata": {},
   "source": [
    "## Both stores has similar distribution in post word lengths"
   ]
  },
  {
   "cell_type": "markdown",
   "id": "1e026c41-4104-46dd-bf40-9615233710ac",
   "metadata": {},
   "source": [
    "### Sentimental Analysis"
   ]
  },
  {
   "cell_type": "code",
   "execution_count": 15,
   "id": "22317825-314c-4c82-aa06-280b048aa44d",
   "metadata": {},
   "outputs": [],
   "source": [
    "#Instantiate the object\n",
    "sia=SentimentIntensityAnalyzer()"
   ]
  },
  {
   "cell_type": "code",
   "execution_count": 18,
   "id": "a45df7c3-9929-41dc-b0c3-9208675d3517",
   "metadata": {},
   "outputs": [],
   "source": [
    "#get the polarity_score\n",
    "sia_score_df=pd.DataFrame([sia.polarity_scores(item) for item in df['title']], index=df.index)"
   ]
  },
  {
   "cell_type": "code",
   "execution_count": 19,
   "id": "74888386-69c3-4ce2-a377-caa4e92b613a",
   "metadata": {},
   "outputs": [
    {
     "data": {
      "text/html": [
       "<div>\n",
       "<style scoped>\n",
       "    .dataframe tbody tr th:only-of-type {\n",
       "        vertical-align: middle;\n",
       "    }\n",
       "\n",
       "    .dataframe tbody tr th {\n",
       "        vertical-align: top;\n",
       "    }\n",
       "\n",
       "    .dataframe thead th {\n",
       "        text-align: right;\n",
       "    }\n",
       "</style>\n",
       "<table border=\"1\" class=\"dataframe\">\n",
       "  <thead>\n",
       "    <tr style=\"text-align: right;\">\n",
       "      <th></th>\n",
       "      <th>title</th>\n",
       "      <th>subreddit</th>\n",
       "      <th>title_word_count</th>\n",
       "      <th>neg</th>\n",
       "      <th>neu</th>\n",
       "      <th>pos</th>\n",
       "      <th>compound</th>\n",
       "    </tr>\n",
       "  </thead>\n",
       "  <tbody>\n",
       "    <tr>\n",
       "      <th>0</th>\n",
       "      <td>Can I work here two days a week or should I pu...</td>\n",
       "      <td>wholefoods</td>\n",
       "      <td>16</td>\n",
       "      <td>0.000</td>\n",
       "      <td>1.000</td>\n",
       "      <td>0.000</td>\n",
       "      <td>0.0000</td>\n",
       "    </tr>\n",
       "    <tr>\n",
       "      <th>1</th>\n",
       "      <td>John Mackey and Andy Jassy need to watch this ...</td>\n",
       "      <td>wholefoods</td>\n",
       "      <td>10</td>\n",
       "      <td>0.000</td>\n",
       "      <td>1.000</td>\n",
       "      <td>0.000</td>\n",
       "      <td>0.0000</td>\n",
       "    </tr>\n",
       "    <tr>\n",
       "      <th>2</th>\n",
       "      <td>This is how entitled customers are</td>\n",
       "      <td>wholefoods</td>\n",
       "      <td>6</td>\n",
       "      <td>0.000</td>\n",
       "      <td>0.704</td>\n",
       "      <td>0.296</td>\n",
       "      <td>0.2732</td>\n",
       "    </tr>\n",
       "    <tr>\n",
       "      <th>3</th>\n",
       "      <td>How to correct a punch in Krono?</td>\n",
       "      <td>wholefoods</td>\n",
       "      <td>7</td>\n",
       "      <td>0.000</td>\n",
       "      <td>1.000</td>\n",
       "      <td>0.000</td>\n",
       "      <td>0.0000</td>\n",
       "    </tr>\n",
       "    <tr>\n",
       "      <th>4</th>\n",
       "      <td>Ridiculously Complex and Ambiguous Assessment ...</td>\n",
       "      <td>wholefoods</td>\n",
       "      <td>6</td>\n",
       "      <td>0.324</td>\n",
       "      <td>0.676</td>\n",
       "      <td>0.000</td>\n",
       "      <td>-0.3400</td>\n",
       "    </tr>\n",
       "  </tbody>\n",
       "</table>\n",
       "</div>"
      ],
      "text/plain": [
       "                                               title   subreddit  \\\n",
       "0  Can I work here two days a week or should I pu...  wholefoods   \n",
       "1  John Mackey and Andy Jassy need to watch this ...  wholefoods   \n",
       "2                 This is how entitled customers are  wholefoods   \n",
       "3                   How to correct a punch in Krono?  wholefoods   \n",
       "4  Ridiculously Complex and Ambiguous Assessment ...  wholefoods   \n",
       "\n",
       "   title_word_count    neg    neu    pos  compound  \n",
       "0                16  0.000  1.000  0.000    0.0000  \n",
       "1                10  0.000  1.000  0.000    0.0000  \n",
       "2                 6  0.000  0.704  0.296    0.2732  \n",
       "3                 7  0.000  1.000  0.000    0.0000  \n",
       "4                 6  0.324  0.676  0.000   -0.3400  "
      ]
     },
     "execution_count": 19,
     "metadata": {},
     "output_type": "execute_result"
    }
   ],
   "source": [
    "#add the sia_score to the df dataframe\n",
    "df_sia=pd.concat([df, sia_score_df], axis=1)\n",
    "df_sia.head()"
   ]
  },
  {
   "cell_type": "markdown",
   "id": "a5900052-a2e9-435d-b35c-60dfeaad6d64",
   "metadata": {},
   "source": [
    "### How is the overall score for Trader Joes and Whole Foods?"
   ]
  },
  {
   "cell_type": "code",
   "execution_count": 55,
   "id": "e82cedf7-f4a9-4dc3-91dc-d806191478ec",
   "metadata": {},
   "outputs": [
    {
     "data": {
      "image/png": "[encoded data removed]",
      "text/plain": [
       "<Figure size 432x288 with 1 Axes>"
      ]
     },
     "metadata": {
      "needs_background": "light"
     },
     "output_type": "display_data"
    }
   ],
   "source": [
    "#Display the distribution of compound sia score for posts on Trader Joes\n",
    "df_sia[df_sia['subreddit'] == 'traderjoes']['compound'].hist(bins=20, grid=False, edgecolor='black', linewidth=.4)\n",
    "plt.title('Distribution of compound score on Trader Joe\\'s subreddit posts')\n",
    "plt.xlabel('Score on Trader Joe\\'s posts')\n",
    "plt.ylim((0,140));"
   ]
  },
  {
   "cell_type": "code",
   "execution_count": 56,
   "id": "d99c031b-cd91-4057-b5ce-a5535c5e0c71",
   "metadata": {},
   "outputs": [
    {
     "data": {
      "image/png": "[encoded data removed]",
      "text/plain": [
       "<Figure size 432x288 with 1 Axes>"
      ]
     },
     "metadata": {
      "needs_background": "light"
     },
     "output_type": "display_data"
    }
   ],
   "source": [
    "#Display the distribution of compound sia score for posts on Whole Foods\n",
    "df_sia[df_sia['subreddit'] == 'wholefoods']['compound'].hist(bins=20, grid=False,edgecolor='black', linewidth=.4)\n",
    "plt.title('Distribution of compound score on Wholefoods subreddit posts')\n",
    "plt.xlabel('Score on Whole Foods posts')\n",
    "plt.ylim((0,140));"
   ]
  },
  {
   "cell_type": "markdown",
   "id": "10e76248-d624-4264-a63a-f3f1878be97e",
   "metadata": {},
   "source": [
    "#### Let's put together some easily intepretable comparison based on sentimental analysis\n",
    "* To create a bar plot to show the counts for > .5 compound score from sia analysis\n",
    "* To create a bar plot to show the counts for < -.5 compound score from sia analysis"
   ]
  },
  {
   "cell_type": "code",
   "execution_count": 31,
   "id": "7de21b3c-c80b-41d2-b825-0215f967e1f3",
   "metadata": {},
   "outputs": [],
   "source": [
    "# wholefoods >.5\n",
    "wf_high=sum(df_sia[df_sia['subreddit'] == 'wholefoods']['compound']>.5)\n",
    "# trader joes >.5\n",
    "tj_high=sum(df_sia[df_sia['subreddit'] == 'traderjoes']['compound']>.5)\n",
    "\n",
    "# wholefoods <-.5\n",
    "wf_low=sum(df_sia[df_sia['subreddit'] == 'wholefoods']['compound']<(-0.5))\n",
    "# trader joes <-.5\n",
    "tj_low=sum(df_sia[df_sia['subreddit'] == 'traderjoes']['compound']<(-0.5))"
   ]
  },
  {
   "cell_type": "code",
   "execution_count": 32,
   "id": "c391e58e-dece-462b-9a48-2a91f6fcf927",
   "metadata": {},
   "outputs": [
    {
     "data": {
      "text/html": [
       "<div>\n",
       "<style scoped>\n",
       "    .dataframe tbody tr th:only-of-type {\n",
       "        vertical-align: middle;\n",
       "    }\n",
       "\n",
       "    .dataframe tbody tr th {\n",
       "        vertical-align: top;\n",
       "    }\n",
       "\n",
       "    .dataframe thead th {\n",
       "        text-align: right;\n",
       "    }\n",
       "</style>\n",
       "<table border=\"1\" class=\"dataframe\">\n",
       "  <thead>\n",
       "    <tr style=\"text-align: right;\">\n",
       "      <th></th>\n",
       "      <th>Whole Foods</th>\n",
       "      <th>Trader Joes</th>\n",
       "    </tr>\n",
       "  </thead>\n",
       "  <tbody>\n",
       "    <tr>\n",
       "      <th>low_rate</th>\n",
       "      <td>54</td>\n",
       "      <td>31</td>\n",
       "    </tr>\n",
       "    <tr>\n",
       "      <th>high_rate</th>\n",
       "      <td>66</td>\n",
       "      <td>179</td>\n",
       "    </tr>\n",
       "  </tbody>\n",
       "</table>\n",
       "</div>"
      ],
      "text/plain": [
       "           Whole Foods  Trader Joes\n",
       "low_rate            54           31\n",
       "high_rate           66          179"
      ]
     },
     "execution_count": 32,
     "metadata": {},
     "output_type": "execute_result"
    }
   ],
   "source": [
    "#create a df\n",
    "rate_dict={'low_rate':[wf_low, tj_low], 'high_rate':[wf_high, tj_high]}\n",
    "rate_df=pd.DataFrame(rate_dict).T\n",
    "rate_df.columns=['Whole Foods', 'Trader Joes']\n",
    "#check the rate df\n",
    "rate_df"
   ]
  },
  {
   "cell_type": "code",
   "execution_count": 57,
   "id": "486f3563-97da-4170-9c50-d487e8275513",
   "metadata": {},
   "outputs": [
    {
     "data": {
      "image/png": "[encoded data removed]",
      "text/plain": [
       "<Figure size 432x288 with 1 Axes>"
      ]
     },
     "metadata": {
      "needs_background": "light"
     },
     "output_type": "display_data"
    }
   ],
   "source": [
    "plt.title('Positive score of 0.5 or higher in percentage')\n",
    "plt.xlim((0,180))\n",
    "plt.xlabel('Number of posts')\n",
    "rate_df.iloc[1,:].plot(kind='barh');"
   ]
  },
  {
   "cell_type": "code",
   "execution_count": 58,
   "id": "e8ac86b6-275a-467e-bb4e-f5e404cadaa2",
   "metadata": {},
   "outputs": [
    {
     "data": {
      "image/png": "[encoded data removed]",
      "text/plain": [
       "<Figure size 432x288 with 1 Axes>"
      ]
     },
     "metadata": {
      "needs_background": "light"
     },
     "output_type": "display_data"
    }
   ],
   "source": [
    "plt.title('Negative score of -0.5 or lower in percentage')\n",
    "plt.xlim((0,180))\n",
    "plt.xlabel('Number of posts')\n",
    "rate_df.iloc[0,:].plot(kind='barh',color='darkred');"
   ]
  },
  {
   "cell_type": "markdown",
   "id": "3ac2a711-ff8a-4c97-82c6-02bc20a75f8d",
   "metadata": {},
   "source": [
    "### NLP Finding: In terms of the positive comments battle, Trader Joe's win over Whole Foods by a large margin \n",
    "* Trader Joe's does win over Whole Foods by a large margin in positive sentimental score based on the subrredit data\n",
    "* Trader Joe's has slightly less negative scores than Whole Foods from subrredits\n",
    "\n"
   ]
  },
  {
   "cell_type": "code",
   "execution_count": null,
   "id": "2f8e1b7c-aa90-4012-a47b-54c169950221",
   "metadata": {},
   "outputs": [],
   "source": []
  }
 ],
 "metadata": {
  "kernelspec": {
   "display_name": "Python 3",
   "language": "python",
   "name": "python3"
  },
  "language_info": {
   "codemirror_mode": {
    "name": "ipython",
    "version": 3
   },
   "file_extension": ".py",
   "mimetype": "text/x-python",
   "name": "python",
   "nbconvert_exporter": "python",
   "pygments_lexer": "ipython3",
   "version": "3.8.8"
  }
 },
 "nbformat": 4,
 "nbformat_minor": 5
}
